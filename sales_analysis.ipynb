import pandas as pd
import matplotlib.pyplot as plt
import seaborn as sns

# Load data
df = pd.read_csv('sales_data.csv', parse_dates=['Date'])

# Data Cleaning
df.drop_duplicates(inplace=True)
df = df[df['Quantity'] > 0]
df = df[df['SalesAmount'] > 0]

# Add Month and Year columns
df['Month'] = df['Date'].dt.month_name()
df['Year'] = df['Date'].dt.year

# Total sales summary
total_sales = df['SalesAmount'].sum()
print(f"Total Sales: ${total_sales}")

# Monthly Sales Trend
monthly_sales = df.groupby('Month')['SalesAmount'].sum().reindex([
    'January', 'February', 'March', 'April', 'May', 'June',
    'July', 'August', 'September', 'October', 'November', 'December'
])
plt.figure(figsize=(10,6))
sns.lineplot(data=monthly_sales, marker='o')
plt.title('Monthly Sales Trend')
plt.xlabel('Month')
plt.ylabel('Sales Amount ($)')
plt.xticks(rotation=45)
plt.show()

# Top Products
top_products = df.groupby('Product')['SalesAmount'].sum().sort_values(ascending=False)
print("Top Products by Sales:")
print(top_products)

# Customer Segmentation
customer_sales = df.groupby('CustomerID')['SalesAmount'].sum()
plt.figure(figsize=(8,5))
sns.histplot(customer_sales, bins=10)
plt.title('Customer Sales Distribution')
plt.xlabel('Total Sales Amount per Customer')
plt.ylabel('Number of Customers')
plt.show()
